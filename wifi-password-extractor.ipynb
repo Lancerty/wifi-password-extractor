{
 "cells": [
  {
   "cell_type": "code",
   "execution_count": 1,
   "metadata": {},
   "outputs": [],
   "source": [
    "import subprocess"
   ]
  },
  {
   "cell_type": "code",
   "execution_count": 2,
   "metadata": {},
   "outputs": [],
   "source": [
    "data = subprocess.check_output(['netsh', 'wlan', 'show', 'profiles']).decode('latin-1').split('\\n')\n"
   ]
  },
  {
   "cell_type": "code",
   "execution_count": 3,
   "metadata": {},
   "outputs": [],
   "source": [
    "profiles = [i.split(\":\")[1][1:-1] for i in data if \"All User Profile\" in i]\n"
   ]
  },
  {
   "cell_type": "code",
   "execution_count": 4,
   "metadata": {},
   "outputs": [],
   "source": [
    "import unicodedata\n",
    "\n",
    "def normalize_profile_name(profile_name):\n",
    "    return ''.join([c for c in unicodedata.normalize('NFKD', profile_name) if not unicodedata.combining(c)])\n",
    "\n",
    "for i in profiles:\n",
    "    normalized_profile_name = normalize_profile_name(i)\n",
    "    try:\n",
    "        results = subprocess.check_output(['netsh', 'wlan', 'show', 'profile', normalized_profile_name, 'key=clear']).decode('utf-8').split('\\n')\n",
    "    except subprocess.CalledProcessError as e:\n",
    "        print(f\"Error running command for profile '{i}': {e}\")"
   ]
  },
  {
   "cell_type": "code",
   "execution_count": 5,
   "metadata": {},
   "outputs": [],
   "source": [
    "profile_name_bytes = i.encode('utf-8')\n",
    "results = subprocess.check_output(['netsh', 'wlan', 'show', 'profile', profile_name_bytes, 'key=clear']).decode('utf-8').split('\\n')"
   ]
  },
  {
   "cell_type": "code",
   "execution_count": 6,
   "metadata": {},
   "outputs": [
    {
     "name": "stdout",
     "output_type": "stream",
     "text": [
      "Asus Robinson                 |  \n"
     ]
    }
   ],
   "source": [
    "\n",
    "try:\n",
    "    print (\"{:<30}|  {:<}\".format(i, results[0]))\n",
    "except IndexError:\n",
    "        print (\"{:<30}|  {:<}\".format(i, \"\"))"
   ]
  }
 ],
 "metadata": {
  "kernelspec": {
   "display_name": "Python 3",
   "language": "python",
   "name": "python3"
  },
  "language_info": {
   "codemirror_mode": {
    "name": "ipython",
    "version": 3
   },
   "file_extension": ".py",
   "mimetype": "text/x-python",
   "name": "python",
   "nbconvert_exporter": "python",
   "pygments_lexer": "ipython3",
   "version": "3.12.0"
  }
 },
 "nbformat": 4,
 "nbformat_minor": 2
}

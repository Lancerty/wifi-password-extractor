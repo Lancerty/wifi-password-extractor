{
 "cells": [
  {
   "cell_type": "code",
   "execution_count": 1,
   "metadata": {},
   "outputs": [],
   "source": [
    "import subprocess"
   ]
  },
  {
   "cell_type": "code",
   "execution_count": 2,
   "metadata": {},
   "outputs": [],
   "source": [
    "data = subprocess.check_output(['netsh', 'wlan', 'show', 'profiles']).decode('latin-1').split('\\n')\n"
   ]
  },
  {
   "cell_type": "code",
   "execution_count": 3,
   "metadata": {},
   "outputs": [],
   "source": [
    "profiles = [i.split(\":\")[1][1:-1] for i in data if \"All User Profile\" in i]\n"
   ]
  },
  {
   "cell_type": "code",
   "execution_count": 4,
   "metadata": {},
   "outputs": [],
   "source": [
    "import unicodedata\n",
    "\n",
    "def normalize_profile_name(profile_name):\n",
    "    return ''.join([c for c in unicodedata.normalize('NFKD', profile_name) if not unicodedata.combining(c)])\n",
    "\n",
    "for i in profiles:\n",
    "    normalized_profile_name = normalize_profile_name(i)\n",
    "    try:\n",
    "        results = subprocess.check_output(['netsh', 'wlan', 'show', 'profile', normalized_profile_name, 'key=clear']).decode('utf-8').split('\\n')\n",
    "    except subprocess.CalledProcessError as e:\n",
    "        print(f\"Error running command for profile '{i}': {e}\")"
   ]
  },
  {
   "cell_type": "code",
   "execution_count": 8,
   "metadata": {},
   "outputs": [],
   "source": [
    "\n",
    "profile_name_bytes = i.encode('utf-8')\n",
    "results = subprocess.check_output(['netsh', 'wlan', 'show', 'profile', profile_name_bytes, 'key=clear']).decode('utf-8').split('\\n')"
   ]
  },
  {
   "cell_type": "code",
   "execution_count": 11,
   "metadata": {},
   "outputs": [
    {
     "name": "stdout",
     "output_type": "stream",
     "text": [
      "Asus Robinson                 |  Asus@Complink01\n"
     ]
    }
   ],
   "source": [
    "for i in profiles:\n",
    "    results = subprocess.check_output(['netsh', 'wlan', 'show', 'profile', i, 'key=clear']).decode('utf-8').split('\\n')\n",
    "    results = [b.split(\":\")[1][1:-1] for b in results if \"Key Content\" in b]\n",
    "try:\n",
    "    print (\"{:<30}|  {:<}\".format(i, results[0]))\n",
    "except IndexError:\n",
    "        print (\"{:<30}|  {:<}\".format(i, \"\"))"
   ]
  },
  {
   "cell_type": "code",
   "execution_count": 12,
   "metadata": {},
   "outputs": [
    {
     "name": "stdout",
     "output_type": "stream",
     "text": [
      "L                             |  jumbohatdog\n",
      "Basement 2                    |  Beth82822\n",
      "TP-Link_6969                  |  butopekpek\n",
      "Miss na ni Iya si Miguel      |  iyamiguelito\n",
      "DQB's WIFI                    |  delia502bigas\n",
      "HG8145V5_F9F24_5              |  2dZ44aVZ\n",
      "Asus Robinson                 |  Asus@Complink01\n"
     ]
    }
   ],
   "source": [
    "import subprocess\n",
    "\n",
    "data = subprocess.check_output(['netsh', 'wlan', 'show', 'profiles']).decode('utf-8').split('\\n')\n",
    "profiles = [i.split(\":\")[1][1:-1] for i in data if \"All User Profile\" in i]\n",
    "for i in profiles:\n",
    "    results = subprocess.check_output(['netsh', 'wlan', 'show', 'profile', i, 'key=clear']).decode('utf-8').split('\\n')\n",
    "    results = [b.split(\":\")[1][1:-1] for b in results if \"Key Content\" in b]\n",
    "    try:\n",
    "        print (\"{:<30}|  {:<}\".format(i, results[0]))\n",
    "    except IndexError:\n",
    "        print (\"{:<30}|  {:<}\".format(i, \"\"))"
   ]
  },
  {
   "cell_type": "code",
   "execution_count": 2,
   "metadata": {},
   "outputs": [
    {
     "name": "stderr",
     "output_type": "stream",
     "text": [
      "pywifi 2023-10-26 11:01:08,820 ERROR Open handle failed!\n",
      "pywifi 2023-10-26 11:01:08,820 ERROR Enum interface failed!\n",
      "pywifi 2023-10-26 11:01:08,821 ERROR Can't get wifi interface\n"
     ]
    },
    {
     "name": "stdout",
     "output_type": "stream",
     "text": [
      "No WiFi interfaces found.\n"
     ]
    }
   ],
   "source": [
    "pip install pywifi\n",
    "import pywifi\n",
    "\n",
    "wifi = pywifi.PyWiFi()\n",
    "interfaces = wifi.interfaces()\n",
    "\n",
    "if not interfaces:\n",
    "    print(\"No WiFi interfaces found.\")\n",
    "else:\n",
    "    iface = interfaces[0]  # Use the first WiFi interface\n",
    "\n",
    "    profile_list = iface.scan_results()\n",
    "    for profile in profile_list:\n",
    "        ssid = profile.ssid\n",
    "        password = None\n",
    "\n",
    "        if ssid:\n",
    "            profile_info = iface.profile(ssid)\n",
    "            if profile_info:\n",
    "                password = profile_info.key\n",
    "\n",
    "            if password is not None:\n",
    "                print(f\"SSID: {ssid}, Password: {password}\")\n",
    "            else:\n",
    "                print(f\"SSID: {ssid}, Password: Not found\")"
   ]
  }
 ],
 "metadata": {
  "kernelspec": {
   "display_name": "Python 3",
   "language": "python",
   "name": "python3"
  },
  "language_info": {
   "codemirror_mode": {
    "name": "ipython",
    "version": 3
   },
   "file_extension": ".py",
   "mimetype": "text/x-python",
   "name": "python",
   "nbconvert_exporter": "python",
   "pygments_lexer": "ipython3",
   "version": "3.11.2"
  }
 },
 "nbformat": 4,
 "nbformat_minor": 2
}
